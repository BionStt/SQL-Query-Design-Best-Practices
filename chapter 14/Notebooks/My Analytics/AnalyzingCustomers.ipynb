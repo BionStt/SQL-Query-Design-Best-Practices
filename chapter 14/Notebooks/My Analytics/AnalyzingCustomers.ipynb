{
    "metadata": {
        "kernelspec": {
            "name": "SQL",
            "display_name": "SQL",
            "language": "sql"
        },
        "language_info": {
            "name": "sql",
            "version": ""
        }
    },
    "nbformat_minor": 2,
    "nbformat": 4,
    "cells": [
        {
            "cell_type": "markdown",
            "source": [
                "# Wide World Importers – Customer Analytics\n",
                "\n",
                "In this notebook, we have a series of SQL statements that we use to do some basic analysis on our customers.\n",
                "\n",
                " Our plan is to learn the following things about our customers: \n",
                "\n",
                "- Total customers \n",
                "- Top level customer sales \n",
                "- Total sales in January 2015"
            ],
            "metadata": {
                "language": "sql",
                "azdata_cell_guid": "188815e9-027a-4f6b-977d-baa7583b6e24"
            },
            "attachments": {}
        },
        {
            "cell_type": "code",
            "source": [
                "SELECT COUNT(*) FROM Dimension.Customer;"
            ],
            "metadata": {
                "azdata_cell_guid": "21b30e2e-7eeb-4d4d-b787-95ebcc39388a",
                "language": "sql"
            },
            "outputs": [],
            "execution_count": null
        },
        {
            "cell_type": "code",
            "source": [
                "SELECT TOP(10) * FROM Dimension.Customer;"
            ],
            "metadata": {
                "language": "sql",
                "azdata_cell_guid": "d572460c-408f-43ba-bef5-bcbdd52566a8"
            },
            "outputs": [],
            "execution_count": null
        },
        {
            "cell_type": "code",
            "source": [
                "SELECT [Bill To Customer], COUNT(*) AS [Customer Count] FROM Dimension.Customer GROUP BY [Bill To Customer]"
            ],
            "metadata": {
                "azdata_cell_guid": "dea50a38-98e5-4c54-8cc8-88d6b6732b0e",
                "language": "sql"
            },
            "outputs": [],
            "execution_count": null
        },
        {
            "cell_type": "code",
            "source": [
                "SELECT customer.[Bill To Customer]\r\n",
                ", COUNT(distinct customer.[Customer Key]) AS [Customer Count]\r\n",
                ", SUM (orders.[Total Excluding Tax]) AS [Total Pretax Sales] \r\n",
                "FROM Dimension.Customer customer INNER JOIN Fact.[Order] orders on customer.[Customer Key] = orders.[Customer Key] \r\n",
                "GROUP BY [Bill To Customer]"
            ],
            "metadata": {
                "language": "sql",
                "azdata_cell_guid": "ce66a8ed-4d40-4184-9d81-550ac514b11a"
            },
            "outputs": [],
            "execution_count": null
        },
        {
            "cell_type": "code",
            "source": [
                "SELECT [Order Date Key]\r\n",
                ", SUM ([Total Excluding Tax]) As [Total Pretax Sales] \r\n",
                "FROM Fact.[Order] \r\n",
                "WHERE [Order Date Key] between '1/1/2015' and '1/31/2015'\r\n",
                "GROUP BY [Order Date Key]"
            ],
            "metadata": {
                "azdata_cell_guid": "944c4a10-cf40-4e06-a9e5-4bfa0aef665d",
                "language": "sql"
            },
            "outputs": [],
            "execution_count": null
        },
        {
            "cell_type": "markdown",
            "source": [
                ""
            ],
            "metadata": {
                "azdata_cell_guid": "fcc8f6af-6d68-4b73-94ae-9758b8fe8fbf"
            }
        }
    ]
}